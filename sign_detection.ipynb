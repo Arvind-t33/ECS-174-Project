{
 "cells": [
  {
   "cell_type": "code",
   "execution_count": 1,
   "metadata": {},
   "outputs": [
    {
     "name": "stderr",
     "output_type": "stream",
     "text": [
      "2024-06-04 20:45:42.548474: I tensorflow/core/platform/cpu_feature_guard.cc:210] This TensorFlow binary is optimized to use available CPU instructions in performance-critical operations.\n",
      "To enable the following instructions: AVX2 FMA, in other operations, rebuild TensorFlow with the appropriate compiler flags.\n"
     ]
    },
    {
     "ename": "",
     "evalue": "",
     "output_type": "error",
     "traceback": [
      "\u001b[1;31mThe Kernel crashed while executing code in the the current cell or a previous cell. Please review the code in the cell(s) to identify a possible cause of the failure. Click <a href='https://aka.ms/vscodeJupyterKernelCrash'>here</a> for more info. View Jupyter <a href='command:jupyter.viewOutput'>log</a> for further details."
     ]
    }
   ],
   "source": [
    "import tensorflow as tf\n",
    "from tensorflow.keras.models import Sequential\n",
    "from tensorflow.keras.layers import Conv2D, MaxPooling2D, Flatten, Dense, Dropout\n",
    "from tensorflow.keras.preprocessing.image import ImageDataGenerator\n",
    "from tensorflow.keras.utils import to_categorical\n",
    "import numpy as np\n",
    "import pandas as pd\n",
    "import os\n",
    "from sklearn.model_selection import train_test_split\n",
    "from PIL import Image"
   ]
  },
  {
   "cell_type": "code",
   "execution_count": 1,
   "metadata": {},
   "outputs": [
    {
     "ename": "NameError",
     "evalue": "name 'pd' is not defined",
     "output_type": "error",
     "traceback": [
      "\u001b[0;31m---------------------------------------------------------------------------\u001b[0m",
      "\u001b[0;31mNameError\u001b[0m                                 Traceback (most recent call last)",
      "\u001b[1;32m/Users/rahul_prabhu/Desktop/SQ24/ECS174/ECS-174-Project/sign_detection.ipynb Cell 2\u001b[0m line \u001b[0;36m2\n\u001b[1;32m     <a href='vscode-notebook-cell:/Users/rahul_prabhu/Desktop/SQ24/ECS174/ECS-174-Project/sign_detection.ipynb#W1sZmlsZQ%3D%3D?line=16'>17</a>\u001b[0m     labels \u001b[39m=\u001b[39m np\u001b[39m.\u001b[39marray(labels)\n\u001b[1;32m     <a href='vscode-notebook-cell:/Users/rahul_prabhu/Desktop/SQ24/ECS174/ECS-174-Project/sign_detection.ipynb#W1sZmlsZQ%3D%3D?line=17'>18</a>\u001b[0m     \u001b[39mreturn\u001b[39;00m images, labels\n\u001b[0;32m---> <a href='vscode-notebook-cell:/Users/rahul_prabhu/Desktop/SQ24/ECS174/ECS-174-Project/sign_detection.ipynb#W1sZmlsZQ%3D%3D?line=19'>20</a>\u001b[0m images, labels \u001b[39m=\u001b[39m load_data(data_dir, csv_file)\n\u001b[1;32m     <a href='vscode-notebook-cell:/Users/rahul_prabhu/Desktop/SQ24/ECS174/ECS-174-Project/sign_detection.ipynb#W1sZmlsZQ%3D%3D?line=20'>21</a>\u001b[0m images \u001b[39m=\u001b[39m images \u001b[39m/\u001b[39m \u001b[39m255.0\u001b[39m\n\u001b[1;32m     <a href='vscode-notebook-cell:/Users/rahul_prabhu/Desktop/SQ24/ECS174/ECS-174-Project/sign_detection.ipynb#W1sZmlsZQ%3D%3D?line=21'>22</a>\u001b[0m labels \u001b[39m=\u001b[39m to_categorical(labels, num_classes\u001b[39m=\u001b[39m\u001b[39m43\u001b[39m)\n",
      "\u001b[1;32m/Users/rahul_prabhu/Desktop/SQ24/ECS174/ECS-174-Project/sign_detection.ipynb Cell 2\u001b[0m line \u001b[0;36m7\n\u001b[1;32m      <a href='vscode-notebook-cell:/Users/rahul_prabhu/Desktop/SQ24/ECS174/ECS-174-Project/sign_detection.ipynb#W1sZmlsZQ%3D%3D?line=5'>6</a>\u001b[0m \u001b[39mdef\u001b[39;00m \u001b[39mload_data\u001b[39m(data_dir, csv_file):\n\u001b[0;32m----> <a href='vscode-notebook-cell:/Users/rahul_prabhu/Desktop/SQ24/ECS174/ECS-174-Project/sign_detection.ipynb#W1sZmlsZQ%3D%3D?line=6'>7</a>\u001b[0m     data \u001b[39m=\u001b[39m pd\u001b[39m.\u001b[39mread_csv(csv_file)\n\u001b[1;32m      <a href='vscode-notebook-cell:/Users/rahul_prabhu/Desktop/SQ24/ECS174/ECS-174-Project/sign_detection.ipynb#W1sZmlsZQ%3D%3D?line=7'>8</a>\u001b[0m     images \u001b[39m=\u001b[39m []\n\u001b[1;32m      <a href='vscode-notebook-cell:/Users/rahul_prabhu/Desktop/SQ24/ECS174/ECS-174-Project/sign_detection.ipynb#W1sZmlsZQ%3D%3D?line=8'>9</a>\u001b[0m     labels \u001b[39m=\u001b[39m []\n",
      "\u001b[0;31mNameError\u001b[0m: name 'pd' is not defined"
     ]
    }
   ],
   "source": [
    "# Data paths\n",
    "data_dir = 'gtrsb/Train'\n",
    "csv_file = 'gtrsb/Train/Train.csv'\n",
    "\n",
    "# Load and preprocess the data\n",
    "def load_data(data_dir, csv_file):\n",
    "    data = pd.read_csv(csv_file)\n",
    "    images = []\n",
    "    labels = []\n",
    "    for index, row in data.iterrows():\n",
    "        img_path = os.path.join(data_dir, row['ClassId'], row['Path'])\n",
    "        image = Image.open(img_path)\n",
    "        image = image.resize((32, 32))\n",
    "        images.append(np.array(image))\n",
    "        labels.append(row['ClassId'])\n",
    "    images = np.array(images)\n",
    "    labels = np.array(labels)\n",
    "    return images, labels\n",
    "\n",
    "images, labels = load_data(data_dir, csv_file)\n",
    "images = images / 255.0\n",
    "labels = to_categorical(labels, num_classes=43)\n",
    "\n",
    "# Split the data\n",
    "X_train, X_test, y_train, y_test = train_test_split(images, labels, test_size=0.2, random_state=42)"
   ]
  },
  {
   "cell_type": "code",
   "execution_count": null,
   "metadata": {},
   "outputs": [],
   "source": [
    "# Data augmentation\n",
    "datagen = ImageDataGenerator(\n",
    "    rotation_range=10,\n",
    "    zoom_range=0.1,\n",
    "    width_shift_range=0.1,\n",
    "    height_shift_range=0.1,\n",
    "    horizontal_flip=False\n",
    ")\n",
    "\n",
    "datagen.fit(X_train)"
   ]
  },
  {
   "cell_type": "code",
   "execution_count": null,
   "metadata": {},
   "outputs": [],
   "source": [
    "# Model architecture\n",
    "model = Sequential([\n",
    "    Conv2D(32, (3, 3), activation='relu', input_shape=(32, 32, 3)),\n",
    "    MaxPooling2D((2, 2)),\n",
    "    Conv2D(64, (3, 3), activation='relu'),\n",
    "    MaxPooling2D((2, 2)),\n",
    "    Conv2D(128, (3, 3), activation='relu'),\n",
    "    MaxPooling2D((2, 2)),\n",
    "    Flatten(),\n",
    "    Dense(128, activation='relu'),\n",
    "    Dropout(0.5),\n",
    "    Dense(43, activation='softmax')\n",
    "])"
   ]
  },
  {
   "cell_type": "code",
   "execution_count": null,
   "metadata": {},
   "outputs": [],
   "source": [
    "# Compile the model\n",
    "model.compile(optimizer='adam', loss='categorical_crossentropy', metrics=['accuracy'])\n",
    "\n",
    "# Train the model\n",
    "history = model.fit(datagen.flow(X_train, y_train, batch_size=32), epochs=30, validation_data=(X_test, y_test))"
   ]
  },
  {
   "cell_type": "code",
   "execution_count": null,
   "metadata": {},
   "outputs": [],
   "source": [
    "# Evaluate the model\n",
    "test_loss, test_accuracy = model.evaluate(X_test, y_test)\n",
    "print(f'Test accuracy: {test_accuracy}')"
   ]
  }
 ],
 "metadata": {
  "kernelspec": {
   "display_name": "Python 3",
   "language": "python",
   "name": "python3"
  },
  "language_info": {
   "codemirror_mode": {
    "name": "ipython",
    "version": 3
   },
   "file_extension": ".py",
   "mimetype": "text/x-python",
   "name": "python",
   "nbconvert_exporter": "python",
   "pygments_lexer": "ipython3",
   "version": "3.10.0"
  }
 },
 "nbformat": 4,
 "nbformat_minor": 2
}
