{
 "cells": [
  {
   "cell_type": "code",
   "execution_count": null,
   "metadata": {},
   "outputs": [],
   "source": [
    "import cv2\n",
    "import numpy as np\n",
    "import tensorflow as tf"
   ]
  },
  {
   "cell_type": "code",
   "execution_count": null,
   "metadata": {},
   "outputs": [],
   "source": [
    "# Load YOLOv4 model\n",
    "class_names = [c.strip() for c in open('coco.names').readlines()]\n",
    "model = tf.saved_model.load('./checkpoints/yolov4-416')"
   ]
  },
  {
   "cell_type": "code",
   "execution_count": null,
   "metadata": {},
   "outputs": [],
   "source": [
    "def load_image(img_path):\n",
    "    img = cv2.imread(img_path)\n",
    "    img = cv2.cvtColor(img, cv2.COLOR_BGR2RGB)\n",
    "    img = cv2.resize(img, (416, 416))\n",
    "    img = img / 255.0\n",
    "    img = img[np.newaxis, ...].astype(np.float32)\n",
    "    return img\n",
    "\n",
    "def detect_objects(image_path):\n",
    "    img = load_image(image_path)\n",
    "    infer = model.signatures['serving_default']\n",
    "    batch_data = tf.constant(img)\n",
    "    pred_bbox = infer(batch_data)\n",
    "    for key, value in pred_bbox.items():\n",
    "        boxes = value[:, :, 0:4]\n",
    "        pred_conf = value[:, :, 4:]\n",
    "\n",
    "    return boxes, pred_conf\n",
    "\n",
    "def draw_bbox(image_path, boxes, scores, classes, class_names):\n",
    "    image = cv2.imread(image_path)\n",
    "    image_h, image_w, _ = image.shape\n",
    "    for i in range(len(boxes)):\n",
    "        if scores[i] > 0.5:\n",
    "            box = boxes[i]\n",
    "            class_id = int(classes[i])\n",
    "            score = scores[i]\n",
    "            x_min, y_min, x_max, y_max = box\n",
    "            x_min = int(x_min * image_w)\n",
    "            y_min = int(y_min * image_h)\n",
    "            x_max = int(x_max * image_w)\n",
    "            y_max = int(y_max * image_h)\n",
    "            cv2.rectangle(image, (x_min, y_min), (x_max, y_max), (0, 255, 0), 2)\n",
    "            label = f'{class_names[class_id]}: {score:.2f}'\n",
    "            cv2.putText(image, label, (x_min, y_min - 10), cv2.FONT_HERSHEY_SIMPLEX, 0.5, (0, 255, 0), 2)\n",
    "    cv2.imshow('Detected Image', image)\n",
    "    cv2.waitKey(0)\n",
    "    cv2.destroyAllWindows()"
   ]
  },
  {
   "cell_type": "code",
   "execution_count": null,
   "metadata": {},
   "outputs": [],
   "source": [
    " # Path to the input image\n",
    "image_path = 'path/to/your/image.jpg'\n",
    "\n",
    "# Detect objects\n",
    "boxes, scores, classes = detect_objects(image_path)\n",
    "\n",
    "# Draw bounding boxes on the image\n",
    "draw_bbox(image_path, boxes[0], scores[0], classes[0], class_names)"
   ]
  }
 ],
 "metadata": {
  "language_info": {
   "name": "python"
  }
 },
 "nbformat": 4,
 "nbformat_minor": 2
}
